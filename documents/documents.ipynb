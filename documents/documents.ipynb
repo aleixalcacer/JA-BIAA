{
 "cells": [
  {
   "cell_type": "markdown",
   "metadata": {
    "collapsed": true
   },
   "source": [
    "# BiAA example"
   ]
  },
  {
   "cell_type": "code",
   "execution_count": null,
   "metadata": {
    "pycharm": {
     "is_executing": true
    }
   },
   "outputs": [],
   "source": [
    "import numpy as np\n",
    "from sklearn.datasets import fetch_20newsgroups\n",
    "from sklearn.feature_extraction.text import TfidfVectorizer\n",
    "\n",
    "import archetypes as arch\n",
    "import pandas as pd\n",
    "import matplotlib.pyplot as plt"
   ]
  },
  {
   "cell_type": "code",
   "execution_count": null,
   "outputs": [],
   "source": [
    "def number_normalizer(tokens):\n",
    "    \"\"\"Map all numeric tokens to a placeholder.\n",
    "\n",
    "    For many applications, tokens that begin with a number are not directly\n",
    "    useful, but the fact that such a token exists can be relevant.  By applying\n",
    "    this form of dimensionality reduction, some methods may perform better.\n",
    "    \"\"\"\n",
    "    return (\"#NUMBER\" if token[0].isdigit() else token for token in tokens)"
   ],
   "metadata": {
    "collapsed": false,
    "pycharm": {
     "is_executing": true
    }
   }
  },
  {
   "cell_type": "code",
   "execution_count": null,
   "outputs": [],
   "source": [
    "class NumberNormalizingVectorizer(TfidfVectorizer):\n",
    "    def build_tokenizer(self):\n",
    "        tokenize = super().build_tokenizer()\n",
    "        return lambda doc: list(number_normalizer(tokenize(doc)))"
   ],
   "metadata": {
    "collapsed": false,
    "pycharm": {
     "is_executing": true
    }
   }
  },
  {
   "cell_type": "code",
   "execution_count": null,
   "metadata": {
    "pycharm": {
     "is_executing": true
    }
   },
   "outputs": [],
   "source": [
    "categories = ['rec.autos', 'rec.sport.hockey', \"talk.politics.guns\"]\n",
    "\n",
    "newsgroups = fetch_20newsgroups(categories=categories)\n",
    "data = newsgroups.data[:]\n",
    "target = newsgroups.target[:]\n",
    "\n",
    "# samples = np.random.choice(len(data), 100)\n",
    "# data = [data[i] for i in samples]\n",
    "# target = [target[i] for i in samples]\n",
    "\n",
    "target_names = newsgroups.target_names\n",
    "\n",
    "vectorizer = NumberNormalizingVectorizer(stop_words=\"english\", min_df=0.02, max_df=0.3)\n",
    "\n",
    "X = vectorizer.fit_transform(data).toarray()\n",
    "words = vectorizer.get_feature_names_out()"
   ]
  },
  {
   "cell_type": "code",
   "execution_count": null,
   "metadata": {
    "pycharm": {
     "is_executing": true
    }
   },
   "outputs": [],
   "source": [
    "X.shape"
   ]
  },
  {
   "cell_type": "code",
   "execution_count": null,
   "metadata": {
    "pycharm": {
     "is_executing": true
    }
   },
   "outputs": [],
   "source": [
    "model = arch.BiAA(n_archetypes=(4, 4), max_iter=10_000, n_init=5, random_state=123)\n",
    "_ = model.fit(X)"
   ]
  },
  {
   "cell_type": "code",
   "execution_count": null,
   "outputs": [],
   "source": [
    "model.archetypes_"
   ],
   "metadata": {
    "collapsed": false,
    "pycharm": {
     "is_executing": true
    }
   }
  },
  {
   "cell_type": "code",
   "execution_count": null,
   "outputs": [],
   "source": [
    "alphas_index = [0, 1, 3]\n",
    "alphas = pd.DataFrame(model.alphas_)\n",
    "alphas = alphas.iloc[:, alphas_index]\n",
    "\n",
    "alphas = alphas.div(alphas.sum(axis=1), axis=0)\n",
    "\n",
    "a = alphas.idxmax(axis=1)\n",
    "\n",
    "\n",
    "fig, ax = plt.subplots(figsize=(5, 5))\n",
    "\n",
    "arch.simplex(alphas, c=target, alpha=0.1, ax=ax)\n",
    "\n",
    "fig.subplots_adjust(left=0, right=1, bottom=0, top=1)\n",
    "\n",
    "fig.savefig('documents.eps', format='eps')\n",
    "fig.savefig('documents.png', format='png')\n",
    "fig.savefig('documents.pdf', format='pdf')\n",
    "\n",
    "fig.show()"
   ],
   "metadata": {
    "collapsed": false,
    "pycharm": {
     "is_executing": true
    }
   }
  },
  {
   "cell_type": "code",
   "execution_count": null,
   "outputs": [],
   "source": [
    "gammas_index = [0, 1, 2]\n",
    "gammas = pd.DataFrame(model.gammas_.T)\n",
    "gammas.index = words\n",
    "gammas = gammas.iloc[:, gammas_index]\n",
    "\n",
    "# gammas = gammas.div(gammas.sum(axis=1), axis=0)\n",
    "gammas = gammas.dropna()\n",
    "g = gammas.idxmax(axis=1)\n",
    "\n",
    "gammas_names = []\n",
    "df = pd.DataFrame()\n",
    "gammas_subset = pd.DataFrame()\n",
    "for i in range(len(gammas_index)):\n",
    "    g_i = gammas.sort_values(i, ascending=False).head(10).index.to_list()\n",
    "    gammas_subset = pd.concat([gammas_subset, gammas.sort_values(i, ascending=False).head(25)])\n",
    "    df[f\"A{i}\"] = g_i\n",
    "    gammas_names += g_i\n",
    "\n",
    "gammas_subset = gammas_subset[~gammas_subset.index.duplicated(keep='first')]\n",
    "arch.simplex(gammas, alpha=0.1)\n",
    "plt.show()"
   ],
   "metadata": {
    "collapsed": false,
    "pycharm": {
     "is_executing": true
    }
   }
  },
  {
   "cell_type": "code",
   "execution_count": null,
   "outputs": [],
   "source": [
    "print(df.style.hide(axis=\"index\").to_latex(hrules=True))"
   ],
   "metadata": {
    "collapsed": false,
    "pycharm": {
     "is_executing": true
    }
   }
  },
  {
   "cell_type": "code",
   "execution_count": null,
   "outputs": [],
   "source": [
    "gammas"
   ],
   "metadata": {
    "collapsed": false,
    "pycharm": {
     "is_executing": true
    }
   }
  },
  {
   "cell_type": "code",
   "execution_count": null,
   "outputs": [],
   "source": [
    "from sklearn.metrics.pairwise import cosine_similarity"
   ],
   "metadata": {
    "collapsed": false,
    "pycharm": {
     "is_executing": true
    }
   }
  },
  {
   "cell_type": "code",
   "execution_count": null,
   "outputs": [],
   "source": [
    "import networkx as nx\n",
    "from sklearn.metrics.pairwise import cosine_similarity"
   ],
   "metadata": {
    "collapsed": false,
    "pycharm": {
     "is_executing": true
    }
   }
  },
  {
   "cell_type": "code",
   "execution_count": null,
   "outputs": [],
   "source": [
    "gammas_subset = gammas_subset.div(gammas_subset.sum(axis=1), axis=0)"
   ],
   "metadata": {
    "collapsed": false,
    "pycharm": {
     "is_executing": true
    }
   }
  },
  {
   "cell_type": "code",
   "execution_count": null,
   "outputs": [],
   "source": [
    "adj_matrix = cosine_similarity(gammas_subset)\n",
    "adj_matrix[np.eye(adj_matrix.shape[0], dtype=bool)] = 0\n",
    "\n",
    "G2 = nx.from_numpy_matrix(adj_matrix)\n",
    "\n",
    "pos2 = nx.spring_layout(G2, seed=0)"
   ],
   "metadata": {
    "collapsed": false,
    "pycharm": {
     "is_executing": true
    }
   }
  },
  {
   "cell_type": "code",
   "execution_count": null,
   "outputs": [],
   "source": [
    "nodes_size = gammas_subset.max(axis=1)\n",
    "nodes_label = gammas_subset.index"
   ],
   "metadata": {
    "collapsed": false,
    "pycharm": {
     "is_executing": true
    }
   }
  },
  {
   "cell_type": "code",
   "execution_count": null,
   "outputs": [],
   "source": [
    "import seaborn as sns\n",
    "\n",
    "edges = G2.edges(data=True)\n",
    "nodes = G2.nodes()\n",
    "\n",
    "\n",
    "[nx.draw_networkx_nodes(G2, pos=pos2, nodelist=[key], node_size=0)\n",
    " for key in nodes]\n",
    "[nx.draw_networkx_edges(G2, pos=pos2, edgelist=[(e1, e2)], alpha=0.05 * values[\"weight\"] ** 5) for e1, e2,\n",
    "                                                                                                        values in\n",
    " edges]\n",
    "[nx.draw_networkx_labels(G2, pos=pos2, font_size=8 * alpha, alpha=1, labels={node:label})\n",
    " for node, label, alpha in zip (nodes, nodes_label, nodes_size)]\n",
    "\n",
    "plt.axis('off')\n",
    "plt.subplots_adjust(left=-0.05, right=1.05, bottom=-0.05, top=1.05)\n",
    "\n",
    "plt.savefig('words-graph.pdf', format='pdf')\n",
    "plt.savefig('words-graph.eps', format='eps')\n",
    "plt.savefig('words-graph.png', format='png')\n",
    "\n",
    "plt.show()"
   ],
   "metadata": {
    "collapsed": false,
    "pycharm": {
     "is_executing": true
    }
   }
  },
  {
   "cell_type": "code",
   "execution_count": null,
   "outputs": [],
   "source": [
    "plt.show()"
   ],
   "metadata": {
    "collapsed": false,
    "pycharm": {
     "is_executing": true
    }
   }
  },
  {
   "cell_type": "code",
   "execution_count": null,
   "outputs": [],
   "source": [],
   "metadata": {
    "collapsed": false,
    "pycharm": {
     "is_executing": true
    }
   }
  }
 ],
 "metadata": {
  "kernelspec": {
   "display_name": "Python 3 (ipykernel)",
   "language": "python",
   "name": "python3"
  },
  "language_info": {
   "codemirror_mode": {
    "name": "ipython",
    "version": 3
   },
   "file_extension": ".py",
   "mimetype": "text/x-python",
   "name": "python",
   "nbconvert_exporter": "python",
   "pygments_lexer": "ipython3",
   "version": "3.8.5"
  }
 },
 "nbformat": 4,
 "nbformat_minor": 1
}
